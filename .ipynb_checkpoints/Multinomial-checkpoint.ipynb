{
 "cells": [
  {
   "cell_type": "markdown",
   "metadata": {},
   "source": [
    "# Multinomial Model"
   ]
  },
  {
   "cell_type": "markdown",
   "metadata": {},
   "source": [
    "Consider a simple model where we observe $X_1,\\dots,X_n \\overset{iid}{\\sim} \\text{Mult}(p)$ where $p\\in\\Delta^{K-1}$. The parameter of interest is $p$ and we endow it with a Dirichlet prior, so $\\pi(p) \\propto p_1^{\\gamma-1}\\cdots p_K^{\\gamma-1}$ for $(p_1,\\dots,p_K)\\in\\Delta^{K-1}$. The likelihood for the model is \n",
    "\n",
    "$$\\mathcal{L}(p;X) = \\prod_{i=1}^n \\prod_{j=1}^K p_j^{\\boldsymbol{1}(X_i = j)} = \\prod_{j=1}^K p_j^{n_j}$$\n",
    "\n",
    "where $n_j=\\sum_i \\boldsymbol{1}(X_i=j)$ is the number of occurences of $j$ in the data. Clearly, this is a conjugate family with the posterior being Dirichlet with parameters $(\\gamma+n_1,\\dots,\\gamma+n_K)$. However we wish to use Metropolis Adjusted Langevin Algorithm for inference.\n",
    "\n",
    "The target posterior has the form $\\pi(p|X) \\propto \\prod_{j=1}^K p_j^{\\gamma+n_j-1}$ if $p\\in\\Delta^{K-1}$ and 0 otherwise, and hence the target potential is\n",
    "$$U(p) = \\log \\pi(p|X) = \\sum_{j=1}^K (\\gamma+n_j-1) \\log p_j$$\n",
    "with gradient given by \n",
    "$$\\nabla U(p) = \\left(\\frac{\\gamma+n_1-1}{p_1}, \\frac{\\gamma+n_2-1}{p_2}, \\dots, \\frac{\\gamma+n_K-1}{p_K}\\right)^\\top.$$\n",
    "\n",
    "MALA takes the following: Initialize $p^{(0)}$. For $t=0,1,2\\dots$\n",
    "1. Langevin gradient step: $q^{(t+1)} = p^{(t)} + \\epsilon_t \\nabla U(p^{(t)})$\n",
    "2. Projection to simplex: $\\tilde{q}^{(t+1)} = P_{\\Delta^{K-1}} (q^{(t+1)})$\n",
    "3. Proposal with Gaussian perturbation: $\\tilde{p}^{(t+1)} = P_{A}(\\tilde{q}^{(t+1)} + \\sqrt{2\\epsilon_t} \\xi)$ where $\\xi\\sim N_K(0,I)$ and $P_A$ is the projection on the affine hull of $\\Delta^{K-1}$ (this accounts to adding a $(K-1)$-dim Gaussian noise on that particular affine space.\n",
    "4. Compute the Hastings ratio: \n",
    "$$r = \\min \\left\\{1, \\frac{\\pi(\\tilde{p}^{(t+1)})q(p^{(t)}|\\tilde{p}^{(t+1)})}{\\pi(p^{(t)})q(\\tilde{p}^{(t+1)}|p^{(t)})}\\right\\}$$\n",
    "where $\\pi = \\pi(\\cdot|X) = \\exp U(\\cdot)$ and $q(x'|x) \\propto \\exp \\left(-\\frac{1}{4\\epsilon_t} \\|x' - P_{\\Delta^{K-1}} (x + \\epsilon \\nabla U(x))\\|_2^2\\right)$ (note this is not symmetric).\n",
    "5. Draw $U\\sim \\text{Unif}(0, 1)$ and if $U<r$, then accept $\\tilde{p}^{(t+1)}$, i.e. set $p^{(t+1)} = \\tilde{p}^{(t+1)}$ or else keep $p^{(t)}$."
   ]
  },
  {
   "cell_type": "code",
   "execution_count": 18,
   "metadata": {},
   "outputs": [],
   "source": [
    "import numpy as np\n",
    "\n",
    "def is_prob(p):\n",
    "    p = np.array(p)\n",
    "    K = len(p)\n",
    "    if np.any(p<0):\n",
    "        return False\n",
    "    elif np.abs(np.sum(p) - 1) > 1e-6:\n",
    "        return False\n",
    "    else:\n",
    "        return True\n",
    "    \n",
    "def proj(π):\n",
    "    π = np.array(π)\n",
    "    K = len(π)\n",
    "    u = -np.sort(-π)\n",
    "    v = 1 - np.cumsum(u)\n",
    "    ρ = 0\n",
    "    for j in range(K):\n",
    "        if u[j] + v[j]/(j+1) > 0:\n",
    "            ρ = j\n",
    "    λ = v[ρ]/(ρ+1)\n",
    "    return np.maximum(π+λ, np.zeros(K))\n",
    "    \n",
    "def potential(p, data, γ):\n",
    "    K = len(p)\n",
    "    if is_prob(p) is False:\n",
    "        return -np.Inf\n",
    "    n = np.array([np.sum(data == j) for j in range(K)])\n",
    "    a = γ - 1 + n\n",
    "    return np.sum(a * np.log(p))\n",
    "\n",
    "def grad_U(p, data, γ):\n",
    "    K = len(p)\n",
    "    n = np.array([np.sum(data == j) for j in range(K)])\n",
    "    a = γ - 1 + n\n",
    "    grad = a/p\n",
    "    return grad/len(data)"
   ]
  },
  {
   "cell_type": "code",
   "execution_count": 19,
   "metadata": {},
   "outputs": [
    {
     "data": {
      "text/plain": [
       "array([0.175, 0.175, 0.375, 0.275])"
      ]
     },
     "execution_count": 19,
     "metadata": {},
     "output_type": "execute_result"
    }
   ],
   "source": [
    "p = [0.2, 0.2, 0.4, 0.3]\n",
    "proj(p)"
   ]
  },
  {
   "cell_type": "markdown",
   "metadata": {},
   "source": [
    "### genrating data"
   ]
  },
  {
   "cell_type": "code",
   "execution_count": 63,
   "metadata": {},
   "outputs": [],
   "source": [
    "p_true = np.array([0.1, 0.2, 0.5, 0.15, 0.05])\n",
    "data = np.random.choice(5, p=p_true, size=500)"
   ]
  },
  {
   "cell_type": "code",
   "execution_count": 64,
   "metadata": {},
   "outputs": [
    {
     "data": {
      "text/plain": [
       "array([1, 2, 1, 3, 1, 3, 0, 0, 1, 2, 3, 2, 1, 1, 3, 2, 2, 0, 3, 2, 1, 3,\n",
       "       2, 2, 1, 3, 3, 2, 2, 1, 0, 2, 2, 2, 3, 2, 2, 1, 2, 2, 2, 2, 2, 4,\n",
       "       1, 2, 0, 2, 2, 2, 1, 2, 2, 1, 3, 1, 2, 2, 0, 2, 2, 2, 2, 2, 2, 1,\n",
       "       2, 1, 2, 2, 1, 0, 3, 2, 0, 1, 0, 2, 2, 2, 1, 2, 2, 4, 2, 1, 2, 2,\n",
       "       2, 2, 2, 1, 2, 2, 0, 2, 3, 1, 1, 0, 2, 0, 2, 2, 1, 2, 3, 2, 1, 4,\n",
       "       1, 4, 2, 2, 2, 0, 3, 3, 2, 1, 2, 2, 3, 3, 1, 2, 1, 2, 0, 2, 3, 1,\n",
       "       1, 2, 2, 0, 3, 2, 2, 0, 3, 2, 3, 3, 3, 3, 1, 2, 2, 0, 3, 0, 2, 3,\n",
       "       3, 3, 0, 3, 2, 1, 2, 2, 0, 2, 2, 1, 2, 2, 0, 0, 1, 2, 2, 2, 2, 2,\n",
       "       0, 3, 2, 1, 0, 1, 0, 2, 1, 2, 2, 2, 1, 3, 1, 2, 1, 1, 2, 2, 2, 1,\n",
       "       2, 2, 2, 2, 3, 2, 3, 2, 4, 2, 2, 1, 2, 1, 2, 2, 3, 3, 2, 2, 1, 1,\n",
       "       2, 2, 2, 2, 2, 2, 2, 2, 1, 1, 1, 2, 3, 2, 2, 3, 1, 1, 2, 4, 2, 4,\n",
       "       2, 2, 3, 2, 4, 1, 1, 0, 2, 4, 0, 2, 2, 2, 2, 2, 2, 2, 2, 2, 0, 1,\n",
       "       1, 2, 2, 2, 2, 3, 2, 1, 1, 4, 4, 3, 2, 2, 2, 0, 2, 1, 2, 2, 3, 2,\n",
       "       0, 4, 2, 1, 4, 0, 0, 2, 0, 2, 2, 3, 2, 3, 0, 2, 2, 2, 2, 1, 2, 2,\n",
       "       1, 1, 4, 2, 2, 4, 3, 2, 4, 2, 2, 1, 2, 2, 1, 2, 2, 3, 2, 1, 2, 2,\n",
       "       2, 2, 1, 1, 1, 2, 0, 0, 2, 2, 1, 1, 0, 1, 2, 2, 4, 2, 2, 1, 1, 2,\n",
       "       1, 2, 2, 2, 2, 3, 2, 2, 2, 1, 2, 2, 2, 2, 2, 2, 2, 2, 0, 2, 1, 4,\n",
       "       2, 0, 1, 3, 1, 0, 2, 3, 2, 2, 2, 1, 2, 2, 0, 2, 2, 2, 4, 2, 2, 3,\n",
       "       0, 2, 0, 2, 3, 2, 2, 2, 2, 2, 1, 1, 2, 2, 2, 1, 1, 3, 1, 2, 2, 4,\n",
       "       3, 4, 2, 2, 2, 1, 1, 1, 0, 1, 1, 2, 1, 4, 2, 1, 1, 3, 2, 1, 2, 0,\n",
       "       1, 1, 2, 2, 2, 1, 2, 3, 0, 2, 0, 1, 4, 1, 2, 3, 3, 2, 2, 1, 2, 0,\n",
       "       2, 3, 0, 2, 2, 2, 1, 1, 4, 2, 1, 1, 0, 3, 2, 2, 1, 4, 2, 0, 2, 0,\n",
       "       1, 2, 2, 2, 2, 2, 2, 3, 1, 2, 2, 3, 2, 2, 1, 0])"
      ]
     },
     "execution_count": 64,
     "metadata": {},
     "output_type": "execute_result"
    }
   ],
   "source": [
    "data"
   ]
  },
  {
   "cell_type": "markdown",
   "metadata": {},
   "source": [
    "## Main code"
   ]
  },
  {
   "cell_type": "code",
   "execution_count": 35,
   "metadata": {},
   "outputs": [],
   "source": [
    "def normalize(v):\n",
    "    return v / np.linalg.norm(v)\n",
    "\n",
    "def gram_schmidt(A):\n",
    "    n = np.shape(A)[1]\n",
    "    A[:, 0] = normalize(A[:, 0])\n",
    "    for i in range(1, n):\n",
    "        Ai = A[:, i]\n",
    "        for j in range(0, i):\n",
    "            Aj = A[:, j]\n",
    "            t = Ai.dot(Aj)\n",
    "            Ai = Ai - t * Aj\n",
    "        A[:, i] = normalize(Ai)\n",
    "    return A"
   ]
  },
  {
   "cell_type": "code",
   "execution_count": 36,
   "metadata": {},
   "outputs": [],
   "source": [
    "A = np.eye(4) - np.ones((4,4))/4\n",
    "A = A[:, 0:3]"
   ]
  },
  {
   "cell_type": "code",
   "execution_count": 37,
   "metadata": {},
   "outputs": [
    {
     "data": {
      "text/plain": [
       "array([[ 8.66025404e-01,  1.35973996e-16,  1.57009246e-16],\n",
       "       [-2.88675135e-01,  8.16496581e-01, -7.85046229e-17],\n",
       "       [-2.88675135e-01, -4.08248290e-01,  7.07106781e-01],\n",
       "       [-2.88675135e-01, -4.08248290e-01, -7.07106781e-01]])"
      ]
     },
     "execution_count": 37,
     "metadata": {},
     "output_type": "execute_result"
    }
   ],
   "source": [
    "gram_schmidt(A)"
   ]
  },
  {
   "cell_type": "code",
   "execution_count": 68,
   "metadata": {},
   "outputs": [],
   "source": [
    "class MALA:\n",
    "    def __init__(self, K):\n",
    "        self.K = K\n",
    "        self.γ = 1.\n",
    "        self.data = None\n",
    "        self.max_iter = 5000\n",
    "        self.required_updates = 1000\n",
    "        self.step_size =0.01\n",
    "        \n",
    "    def fit(self, data):\n",
    "        self.n = len(data)\n",
    "        self.data = data\n",
    "        \n",
    "        K = self.K\n",
    "        # initialize\n",
    "        self.p = np.random.dirichlet(self.γ*np.ones(self.K), size=1)[0]\n",
    "        self.p_list = self.p\n",
    "        self.potentials = [potential(self.p, self.data, self.γ)]\n",
    "        vectors = np.eye(K) - np.ones((K,K))/K\n",
    "        self.ortho_basis = gram_schmidt(vectors[:, 0:(K-1)])\n",
    "        \n",
    "        # run MALA\n",
    "        self.run_MALA()\n",
    "        \n",
    "    def Proj_aff(self, q):\n",
    "        vectors = self.ortho_basis\n",
    "        v = np.zeros(self.K)\n",
    "        for i in range(self.K-1):\n",
    "            v = v + np.dot(q, vectors[:,i]) * vectors[:,i]\n",
    "        return v + np.ones(self.K)/self.K\n",
    "        \n",
    "    def run_MALA(self):\n",
    "        updates = 0\n",
    "        t = 0\n",
    "        import time\n",
    "        time_start = time.time()\n",
    "        \n",
    "        while (updates < self.required_updates) or (t < self.max_iter):\n",
    "            p = self.p\n",
    "            \n",
    "            ϵ = self.step_size/(1+updates)**0.5\n",
    "            \n",
    "            q = p + ϵ * grad_U(p, self.data, self.γ)\n",
    "            q_tilde = proj(q)\n",
    "            p_tilde = self.Proj_aff(q_tilde + np.sqrt(2*ϵ) * np.random.normal(0,1,size=self.K))\n",
    "            \n",
    "            # compute Hastings ratio\n",
    "            term1 = potential(p_tilde, self.data, self.γ) - potential(p, self.data, self.γ)\n",
    "            \n",
    "            a_den = (np.linalg.norm(p_tilde - q_tilde)**2)/(4*ϵ)\n",
    "            \n",
    "            q2 = p_tilde + ϵ * grad_U(p_tilde, self.data, self.γ)\n",
    "            q_tilde2 = proj(q2)\n",
    "            a_num = (np.linalg.norm(p - q_tilde2)**2)/(4*ϵ)\n",
    "            \n",
    "            r = np.exp(term1 + a_num - a_den)\n",
    "            ratio = np.min([1,r])\n",
    "            \n",
    "            # hastings step\n",
    "            U = np.random.uniform(0,1, size=1)[0]\n",
    "            if U<r:\n",
    "                updates = updates + 1\n",
    "                #print('accepted; update', updates, 't=', t)\n",
    "                self.p = p_tilde\n",
    "                self.p_list = np.vstack([self.p_list, p_tilde])\n",
    "                \n",
    "            self.potentials.append(potential(self.p, self.data, self.γ))\n",
    "            t = t+1\n",
    "            \n",
    "        print(\"Time taken:\", np.round(time.time()-time_start, 2), 'sec; updates=', updates, 't=', t)\n",
    "        \n",
    "            "
   ]
  },
  {
   "cell_type": "code",
   "execution_count": 69,
   "metadata": {},
   "outputs": [
    {
     "name": "stdout",
     "output_type": "stream",
     "text": [
      "Time taken: 3.37 sec; updates= 1000 t= 11431\n"
     ]
    },
    {
     "data": {
      "text/plain": [
       "<Figure size 640x480 with 1 Axes>"
      ]
     },
     "metadata": {},
     "output_type": "display_data"
    }
   ],
   "source": [
    "model = MALA(5)\n",
    "model.fit(data)"
   ]
  },
  {
   "cell_type": "code",
   "execution_count": 70,
   "metadata": {},
   "outputs": [
    {
     "data": {
      "text/plain": [
       "array([0.11215006, 0.21998198, 0.48536838, 0.1127403 , 0.06975927])"
      ]
     },
     "execution_count": 70,
     "metadata": {},
     "output_type": "execute_result"
    }
   ],
   "source": [
    "model.p"
   ]
  },
  {
   "cell_type": "code",
   "execution_count": 71,
   "metadata": {},
   "outputs": [
    {
     "data": {
      "text/plain": [
       "array([0.1 , 0.2 , 0.5 , 0.15, 0.05])"
      ]
     },
     "execution_count": 71,
     "metadata": {},
     "output_type": "execute_result"
    }
   ],
   "source": [
    "p_true"
   ]
  },
  {
   "cell_type": "code",
   "execution_count": 72,
   "metadata": {},
   "outputs": [
    {
     "data": {
      "image/png": "[encoded data removed]",
      "text/plain": [
       "<Figure size 432x288 with 1 Axes>"
      ]
     },
     "metadata": {
      "needs_background": "light"
     },
     "output_type": "display_data"
    }
   ],
   "source": [
    "import matplotlib.pyplot as plt\n",
    "potentials = model.potentials\n",
    "plt.plot(range(len(potentials)), potentials)\n",
    "plt.title('Evolution of potentials')\n",
    "plt.show()"
   ]
  },
  {
   "cell_type": "code",
   "execution_count": 73,
   "metadata": {},
   "outputs": [],
   "source": [
    "def plot_distance(p_list, p_true):\n",
    "    n, K = np.shape(p_list)\n",
    "    d = np.zeros(n)\n",
    "    for i in range(n):\n",
    "        d[i] = np.linalg.norm(p_list[i,:] - p_true)\n",
    "    import matplotlib.pyplot as plt\n",
    "    plt.plot(range(n), d)\n",
    "    plt.title('Distance of current p with truth over iterations')"
   ]
  },
  {
   "cell_type": "code",
   "execution_count": 74,
   "metadata": {},
   "outputs": [
    {
     "data": {
      "image/png": "[encoded data removed]",
      "text/plain": [
       "<Figure size 432x288 with 1 Axes>"
      ]
     },
     "metadata": {
      "needs_background": "light"
     },
     "output_type": "display_data"
    }
   ],
   "source": [
    "plot_distance(model.p_list, p_true)"
   ]
  },
  {
   "cell_type": "code",
   "execution_count": null,
   "metadata": {},
   "outputs": [],
   "source": []
  }
 ],
 "metadata": {
  "kernelspec": {
   "display_name": "Python 3",
   "language": "python",
   "name": "python3"
  },
  "language_info": {
   "codemirror_mode": {
    "name": "ipython",
    "version": 3
   },
   "file_extension": ".py",
   "mimetype": "text/x-python",
   "name": "python",
   "nbconvert_exporter": "python",
   "pygments_lexer": "ipython3",
   "version": "3.7.3"
  }
 },
 "nbformat": 4,
 "nbformat_minor": 2
}
